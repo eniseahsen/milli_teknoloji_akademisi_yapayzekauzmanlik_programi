{
  "nbformat": 4,
  "nbformat_minor": 0,
  "metadata": {
    "colab": {
      "provenance": []
    },
    "kernelspec": {
      "name": "python3",
      "display_name": "Python 3"
    },
    "language_info": {
      "name": "python"
    }
  },
  "cells": [
    {
      "cell_type": "markdown",
      "source": [
        "# 1.Verilerin Yüklenmesi\n"
      ],
      "metadata": {
        "id": "0zRQP2Z9mZRp"
      }
    },
    {
      "cell_type": "markdown",
      "source": [
        "Spark session başlatılarak veriseti çekilir."
      ],
      "metadata": {
        "id": "NnYXtOanmToq"
      }
    },
    {
      "cell_type": "code",
      "source": [
        "from pyspark.sql import SparkSession\n",
        "\n",
        "\n",
        "spark = SparkSession.builder.appName(\"HousingPricePrediction\").getOrCreate()\n",
        "\n",
        "data = spark.read.csv(\"/content/drive/MyDrive/Colab Notebooks/spark/housing.csv\", header=True, inferSchema=True)\n",
        "\n"
      ],
      "metadata": {
        "id": "VZzRSVg9khTM"
      },
      "execution_count": 3,
      "outputs": []
    },
    {
      "cell_type": "markdown",
      "source": [
        "# 2.Verilerin İncelenmesi"
      ],
      "metadata": {
        "id": "4w2wnv9_j5IV"
      }
    },
    {
      "cell_type": "markdown",
      "source": [
        "Veriseti, sütunlardaki verilerin ortalama, medyan, maximum, minimum gibi değerleri baz alınarak incelenmiştir."
      ],
      "metadata": {
        "id": "4v3vDQyikjo0"
      }
    },
    {
      "cell_type": "code",
      "source": [
        "data.show(5)"
      ],
      "metadata": {
        "colab": {
          "base_uri": "https://localhost:8080/"
        },
        "id": "7UTllxpbivag",
        "outputId": "8a01c70b-6654-4e50-ad12-962c761faac4"
      },
      "execution_count": 4,
      "outputs": [
        {
          "output_type": "stream",
          "name": "stdout",
          "text": [
            "+---------+--------+------------------+-----------+--------------+----------+----------+-------------+------------------+---------------+\n",
            "|longitude|latitude|housing_median_age|total_rooms|total_bedrooms|population|households|median_income|median_house_value|ocean_proximity|\n",
            "+---------+--------+------------------+-----------+--------------+----------+----------+-------------+------------------+---------------+\n",
            "|  -122.23|   37.88|              41.0|      880.0|         129.0|     322.0|     126.0|       8.3252|          452600.0|       NEAR BAY|\n",
            "|  -122.22|   37.86|              21.0|     7099.0|        1106.0|    2401.0|    1138.0|       8.3014|          358500.0|       NEAR BAY|\n",
            "|  -122.24|   37.85|              52.0|     1467.0|         190.0|     496.0|     177.0|       7.2574|          352100.0|       NEAR BAY|\n",
            "|  -122.25|   37.85|              52.0|     1274.0|         235.0|     558.0|     219.0|       5.6431|          341300.0|       NEAR BAY|\n",
            "|  -122.25|   37.85|              52.0|     1627.0|         280.0|     565.0|     259.0|       3.8462|          342200.0|       NEAR BAY|\n",
            "+---------+--------+------------------+-----------+--------------+----------+----------+-------------+------------------+---------------+\n",
            "only showing top 5 rows\n",
            "\n"
          ]
        }
      ]
    },
    {
      "cell_type": "code",
      "source": [
        "data.describe().show()"
      ],
      "metadata": {
        "colab": {
          "base_uri": "https://localhost:8080/"
        },
        "id": "pg9sMj-Hi7aa",
        "outputId": "6367f5ca-4293-4eec-d358-086ce3045bbd"
      },
      "execution_count": 5,
      "outputs": [
        {
          "output_type": "stream",
          "name": "stdout",
          "text": [
            "+-------+-------------------+-----------------+------------------+------------------+------------------+------------------+-----------------+------------------+------------------+---------------+\n",
            "|summary|          longitude|         latitude|housing_median_age|       total_rooms|    total_bedrooms|        population|       households|     median_income|median_house_value|ocean_proximity|\n",
            "+-------+-------------------+-----------------+------------------+------------------+------------------+------------------+-----------------+------------------+------------------+---------------+\n",
            "|  count|              20640|            20640|             20640|             20640|             20433|             20640|            20640|             20640|             20640|          20640|\n",
            "|   mean|-119.56970445736148| 35.6318614341087|28.639486434108527|2635.7630813953488| 537.8705525375618|1425.4767441860465|499.5396802325581|3.8706710029070246|206855.81690891474|           NULL|\n",
            "| stddev|  2.003531723502584|2.135952397457101| 12.58555761211163|2181.6152515827944|421.38507007403115|  1132.46212176534|382.3297528316098| 1.899821717945263|115395.61587441359|           NULL|\n",
            "|    min|            -124.35|            32.54|               1.0|               2.0|               1.0|               3.0|              1.0|            0.4999|           14999.0|      <1H OCEAN|\n",
            "|    max|            -114.31|            41.95|              52.0|           39320.0|            6445.0|           35682.0|           6082.0|           15.0001|          500001.0|     NEAR OCEAN|\n",
            "+-------+-------------------+-----------------+------------------+------------------+------------------+------------------+-----------------+------------------+------------------+---------------+\n",
            "\n"
          ]
        }
      ]
    },
    {
      "cell_type": "code",
      "source": [
        "data.summary().show()"
      ],
      "metadata": {
        "colab": {
          "base_uri": "https://localhost:8080/"
        },
        "id": "4wiKoB2vjRtQ",
        "outputId": "c04cefda-00a5-46c3-fd65-2725caf29f42"
      },
      "execution_count": 7,
      "outputs": [
        {
          "output_type": "stream",
          "name": "stdout",
          "text": [
            "+-------+-------------------+-----------------+------------------+------------------+------------------+------------------+-----------------+------------------+------------------+---------------+\n",
            "|summary|          longitude|         latitude|housing_median_age|       total_rooms|    total_bedrooms|        population|       households|     median_income|median_house_value|ocean_proximity|\n",
            "+-------+-------------------+-----------------+------------------+------------------+------------------+------------------+-----------------+------------------+------------------+---------------+\n",
            "|  count|              20640|            20640|             20640|             20640|             20433|             20640|            20640|             20640|             20640|          20640|\n",
            "|   mean|-119.56970445736148| 35.6318614341087|28.639486434108527|2635.7630813953488| 537.8705525375618|1425.4767441860465|499.5396802325581|3.8706710029070246|206855.81690891474|           NULL|\n",
            "| stddev|  2.003531723502584|2.135952397457101| 12.58555761211163|2181.6152515827944|421.38507007403115|  1132.46212176534|382.3297528316098| 1.899821717945263|115395.61587441359|           NULL|\n",
            "|    min|            -124.35|            32.54|               1.0|               2.0|               1.0|               3.0|              1.0|            0.4999|           14999.0|      <1H OCEAN|\n",
            "|    25%|             -121.8|            33.93|              18.0|            1447.0|             296.0|             787.0|            280.0|            2.5625|          119600.0|           NULL|\n",
            "|    50%|            -118.49|            34.26|              29.0|            2127.0|             435.0|            1166.0|            409.0|            3.5347|          179700.0|           NULL|\n",
            "|    75%|            -118.01|            37.71|              37.0|            3146.0|             647.0|            1724.0|            605.0|            4.7426|          264700.0|           NULL|\n",
            "|    max|            -114.31|            41.95|              52.0|           39320.0|            6445.0|           35682.0|           6082.0|           15.0001|          500001.0|     NEAR OCEAN|\n",
            "+-------+-------------------+-----------------+------------------+------------------+------------------+------------------+-----------------+------------------+------------------+---------------+\n",
            "\n"
          ]
        }
      ]
    },
    {
      "cell_type": "markdown",
      "source": [
        "Sütunlardaki eşşiz değerlerin sayısı incelenmiştir."
      ],
      "metadata": {
        "id": "OXduhsCBkzUJ"
      }
    },
    {
      "cell_type": "code",
      "source": [
        "for col_name in data.columns:\n",
        "    distinct_count = data.select(col_name).distinct().count()\n",
        "    print(f\"{col_name}: {distinct_count} unique values\")\n"
      ],
      "metadata": {
        "colab": {
          "base_uri": "https://localhost:8080/"
        },
        "id": "1JCLu8Ywjjuq",
        "outputId": "11ef18c8-e077-4202-af59-cf752175d3f2"
      },
      "execution_count": 10,
      "outputs": [
        {
          "output_type": "stream",
          "name": "stdout",
          "text": [
            "longitude: 844 unique values\n",
            "latitude: 862 unique values\n",
            "housing_median_age: 52 unique values\n",
            "total_rooms: 5926 unique values\n",
            "total_bedrooms: 1924 unique values\n",
            "population: 3888 unique values\n",
            "households: 1815 unique values\n",
            "median_income: 12928 unique values\n",
            "median_house_value: 3842 unique values\n",
            "ocean_proximity: 5 unique values\n"
          ]
        }
      ]
    },
    {
      "cell_type": "markdown",
      "source": [
        "Her sütundaki boş değerler incelelmiştir."
      ],
      "metadata": {
        "id": "_aXbyVSvl9Qb"
      }
    },
    {
      "cell_type": "code",
      "source": [
        "from pyspark.sql.functions import col, count, when\n",
        "data.select([count(when(col(c).isNull(), c)).alias(c) for c in data.columns]).show()\n"
      ],
      "metadata": {
        "colab": {
          "base_uri": "https://localhost:8080/"
        },
        "id": "R80sNB5RkqKz",
        "outputId": "79a097de-f578-4361-c268-f3741f4160e1"
      },
      "execution_count": 13,
      "outputs": [
        {
          "output_type": "stream",
          "name": "stdout",
          "text": [
            "+---------+--------+------------------+-----------+--------------+----------+----------+-------------+------------------+---------------+\n",
            "|longitude|latitude|housing_median_age|total_rooms|total_bedrooms|population|households|median_income|median_house_value|ocean_proximity|\n",
            "+---------+--------+------------------+-----------+--------------+----------+----------+-------------+------------------+---------------+\n",
            "|        0|       0|                 0|          0|           207|         0|         0|            0|                 0|              0|\n",
            "+---------+--------+------------------+-----------+--------------+----------+----------+-------------+------------------+---------------+\n",
            "\n"
          ]
        }
      ]
    },
    {
      "cell_type": "markdown",
      "source": [
        "# 3.Özniteliklerin Seçimi ve Verilerin Makine Öğrenmesi İçin Hazırlanması"
      ],
      "metadata": {
        "id": "9WzMBh3MmI0K"
      }
    },
    {
      "cell_type": "markdown",
      "source": [
        "StringIndexer kullanılarak kategorik değişken olan \"ocean_proximity\" değişkeni sayısal bir değişkene dönüştürülmüştür."
      ],
      "metadata": {
        "id": "M9G5CFgVnMMd"
      }
    },
    {
      "cell_type": "code",
      "source": [
        "from pyspark.ml.feature import StringIndexer, VectorAssembler\n",
        "\n",
        "indexer = StringIndexer(inputCol=\"ocean_proximity\",outputCol=\"ocean_proximity_index\")\n",
        "data = indexer.fit(data).transform(data)"
      ],
      "metadata": {
        "id": "krHg13ltmhm6"
      },
      "execution_count": 15,
      "outputs": []
    },
    {
      "cell_type": "code",
      "source": [
        "data.show()"
      ],
      "metadata": {
        "colab": {
          "base_uri": "https://localhost:8080/"
        },
        "id": "0dwa6BCZnIbE",
        "outputId": "3b6c0772-72b1-4543-c492-fd6d269602c2"
      },
      "execution_count": 19,
      "outputs": [
        {
          "output_type": "stream",
          "name": "stdout",
          "text": [
            "+---------+--------+------------------+-----------+--------------+----------+----------+-------------+------------------+---------------+---------------------+\n",
            "|longitude|latitude|housing_median_age|total_rooms|total_bedrooms|population|households|median_income|median_house_value|ocean_proximity|ocean_proximity_index|\n",
            "+---------+--------+------------------+-----------+--------------+----------+----------+-------------+------------------+---------------+---------------------+\n",
            "|  -122.23|   37.88|              41.0|      880.0|         129.0|     322.0|     126.0|       8.3252|          452600.0|       NEAR BAY|                  3.0|\n",
            "|  -122.22|   37.86|              21.0|     7099.0|        1106.0|    2401.0|    1138.0|       8.3014|          358500.0|       NEAR BAY|                  3.0|\n",
            "|  -122.24|   37.85|              52.0|     1467.0|         190.0|     496.0|     177.0|       7.2574|          352100.0|       NEAR BAY|                  3.0|\n",
            "|  -122.25|   37.85|              52.0|     1274.0|         235.0|     558.0|     219.0|       5.6431|          341300.0|       NEAR BAY|                  3.0|\n",
            "|  -122.25|   37.85|              52.0|     1627.0|         280.0|     565.0|     259.0|       3.8462|          342200.0|       NEAR BAY|                  3.0|\n",
            "|  -122.25|   37.85|              52.0|      919.0|         213.0|     413.0|     193.0|       4.0368|          269700.0|       NEAR BAY|                  3.0|\n",
            "|  -122.25|   37.84|              52.0|     2535.0|         489.0|    1094.0|     514.0|       3.6591|          299200.0|       NEAR BAY|                  3.0|\n",
            "|  -122.25|   37.84|              52.0|     3104.0|         687.0|    1157.0|     647.0|         3.12|          241400.0|       NEAR BAY|                  3.0|\n",
            "|  -122.26|   37.84|              42.0|     2555.0|         665.0|    1206.0|     595.0|       2.0804|          226700.0|       NEAR BAY|                  3.0|\n",
            "|  -122.25|   37.84|              52.0|     3549.0|         707.0|    1551.0|     714.0|       3.6912|          261100.0|       NEAR BAY|                  3.0|\n",
            "|  -122.26|   37.85|              52.0|     2202.0|         434.0|     910.0|     402.0|       3.2031|          281500.0|       NEAR BAY|                  3.0|\n",
            "|  -122.26|   37.85|              52.0|     3503.0|         752.0|    1504.0|     734.0|       3.2705|          241800.0|       NEAR BAY|                  3.0|\n",
            "|  -122.26|   37.85|              52.0|     2491.0|         474.0|    1098.0|     468.0|        3.075|          213500.0|       NEAR BAY|                  3.0|\n",
            "|  -122.26|   37.84|              52.0|      696.0|         191.0|     345.0|     174.0|       2.6736|          191300.0|       NEAR BAY|                  3.0|\n",
            "|  -122.26|   37.85|              52.0|     2643.0|         626.0|    1212.0|     620.0|       1.9167|          159200.0|       NEAR BAY|                  3.0|\n",
            "|  -122.26|   37.85|              50.0|     1120.0|         283.0|     697.0|     264.0|        2.125|          140000.0|       NEAR BAY|                  3.0|\n",
            "|  -122.27|   37.85|              52.0|     1966.0|         347.0|     793.0|     331.0|        2.775|          152500.0|       NEAR BAY|                  3.0|\n",
            "|  -122.27|   37.85|              52.0|     1228.0|         293.0|     648.0|     303.0|       2.1202|          155500.0|       NEAR BAY|                  3.0|\n",
            "|  -122.26|   37.84|              50.0|     2239.0|         455.0|     990.0|     419.0|       1.9911|          158700.0|       NEAR BAY|                  3.0|\n",
            "|  -122.27|   37.84|              52.0|     1503.0|         298.0|     690.0|     275.0|       2.6033|          162900.0|       NEAR BAY|                  3.0|\n",
            "+---------+--------+------------------+-----------+--------------+----------+----------+-------------+------------------+---------------+---------------------+\n",
            "only showing top 20 rows\n",
            "\n"
          ]
        }
      ]
    },
    {
      "cell_type": "markdown",
      "source": [
        "VectorAssembler ile özellikler ( bağımısz değişkenler ) belirlenerek hepsi bir vektör formatına dönüştürülmüştür. \"median_house_value\" sütunu da tahmin edilecek değişken olarak belirlenmiştir.( bağımlı değişken)"
      ],
      "metadata": {
        "id": "piEx6b9Eppvs"
      }
    },
    {
      "cell_type": "code",
      "source": [
        "assembler = VectorAssembler(\n",
        "    inputCols=[\"longitude\",\"latitude\",\"housing_median_age\",\"total_rooms\",\"total_bedrooms\",\"population\",\"households\",\"median_income\",\"ocean_proximity_index\"],\n",
        "    outputCol=\"features\", handleInvalid=\"skip\"\n",
        ")\n",
        "data = assembler.transform(data)\n",
        "\n",
        "final_data= data.select(\"features\",\"median_house_value\")\n",
        "final_data.show()"
      ],
      "metadata": {
        "colab": {
          "base_uri": "https://localhost:8080/"
        },
        "id": "do2m61mLn2UL",
        "outputId": "0fd783f8-65fc-44c5-9f1c-08b01fc72668"
      },
      "execution_count": 20,
      "outputs": [
        {
          "output_type": "stream",
          "name": "stdout",
          "text": [
            "+--------------------+------------------+\n",
            "|            features|median_house_value|\n",
            "+--------------------+------------------+\n",
            "|[-122.23,37.88,41...|          452600.0|\n",
            "|[-122.22,37.86,21...|          358500.0|\n",
            "|[-122.24,37.85,52...|          352100.0|\n",
            "|[-122.25,37.85,52...|          341300.0|\n",
            "|[-122.25,37.85,52...|          342200.0|\n",
            "|[-122.25,37.85,52...|          269700.0|\n",
            "|[-122.25,37.84,52...|          299200.0|\n",
            "|[-122.25,37.84,52...|          241400.0|\n",
            "|[-122.26,37.84,42...|          226700.0|\n",
            "|[-122.25,37.84,52...|          261100.0|\n",
            "|[-122.26,37.85,52...|          281500.0|\n",
            "|[-122.26,37.85,52...|          241800.0|\n",
            "|[-122.26,37.85,52...|          213500.0|\n",
            "|[-122.26,37.84,52...|          191300.0|\n",
            "|[-122.26,37.85,52...|          159200.0|\n",
            "|[-122.26,37.85,50...|          140000.0|\n",
            "|[-122.27,37.85,52...|          152500.0|\n",
            "|[-122.27,37.85,52...|          155500.0|\n",
            "|[-122.26,37.84,50...|          158700.0|\n",
            "|[-122.27,37.84,52...|          162900.0|\n",
            "+--------------------+------------------+\n",
            "only showing top 20 rows\n",
            "\n"
          ]
        }
      ]
    },
    {
      "cell_type": "markdown",
      "source": [
        "# 4.PySpark ile Makine Öğrenmesi Modelinin Oluşturulması"
      ],
      "metadata": {
        "id": "xqWsGR7CqrM2"
      }
    },
    {
      "cell_type": "markdown",
      "source": [
        "final_data, eğitim ve test verisi olarak ikiye bölünür. Doğrusal Regresyon modeli tanımlanır ve fit fonksiyonu ile model eğitilir."
      ],
      "metadata": {
        "id": "fYx1cy07rEjJ"
      }
    },
    {
      "cell_type": "code",
      "source": [
        "from pyspark.ml.regression import LinearRegression\n",
        "\n",
        "train_data, test_data = final_data.randomSplit([0.8, 0.2])\n",
        "lr = LinearRegression(featuresCol=\"features\", labelCol=\"median_house_value\")\n",
        "lr_model = lr.fit(train_data)\n"
      ],
      "metadata": {
        "id": "j5CFEgWHktUr"
      },
      "execution_count": 21,
      "outputs": []
    },
    {
      "cell_type": "markdown",
      "source": [
        "Model verisi evaluate fonksiyonu ile test verisi üzerinden değerlendirilir. Root mean squared error ve R2 değerleri hesaplanır."
      ],
      "metadata": {
        "id": "n02VysRyrsFQ"
      }
    },
    {
      "cell_type": "code",
      "source": [
        "test_results = lr_model.evaluate(test_data)\n",
        "print(\"Root Mean Squared Error (RMSE):\", test_results.rootMeanSquaredError)\n",
        "print(\"R2:\", test_results.r2)\n"
      ],
      "metadata": {
        "colab": {
          "base_uri": "https://localhost:8080/"
        },
        "id": "TDTmNxdZmFfX",
        "outputId": "ea990032-e89c-416e-d7dc-0125dc0c00f1"
      },
      "execution_count": 22,
      "outputs": [
        {
          "output_type": "stream",
          "name": "stdout",
          "text": [
            "Root Mean Squared Error (RMSE): 71602.65298060827\n",
            "R2: 0.6239338349430412\n"
          ]
        }
      ]
    }
  ]
}
